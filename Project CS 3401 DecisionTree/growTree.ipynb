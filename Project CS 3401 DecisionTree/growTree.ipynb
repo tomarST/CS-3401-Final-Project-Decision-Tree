{
 "cells": [
  {
   "cell_type": "code",
   "execution_count": 3,
   "metadata": {},
   "outputs": [],
   "source": [
    "import numpy as np\n",
    "import pandas as pd\n",
    "import json\n",
    "def id3(data, target, columns, tree,dataDomain,parent,dictionary,key=\"\"):\n",
    "    unique_targets = np.unique(data[target])\n",
    "\n",
    "    if len(data)==0:\n",
    "        dictionary[key]=(str(parent[target].value_counts().argmax())[:-2])\n",
    "        return \n",
    "    elif len(unique_targets) == 1:\n",
    "        # Insert code here that assigns the \"label\" field to the node dictionary\n",
    "        if 1 in unique_targets:\n",
    "            dictionary[key]=(str(1))\n",
    "        else:\n",
    "            dictionary[key]=(str(2))\n",
    "        return \n",
    "    elif len(columns)==0:\n",
    "        dictionary[key]=str(data[target].value_counts().argmax())[:-2]\n",
    "        return \n",
    "    else:\n",
    "        parent=data\n",
    "        best_column = find_best_column(data, target, columns)\n",
    "        # Insert code here that assigns the \"column\" and \"median\" fields to the node dictionary\n",
    "        split_dict = []\n",
    "        for i in dataDomain[best_column].keys():\n",
    "            split_dict.append([i,data[data[best_column] == float(i)]])\n",
    "        tree.insert(0,best_column)\n",
    "        tree.insert(1,{})\n",
    "        for name, split in split_dict:\n",
    "            key=name\n",
    "            tree[1][name]=[]\n",
    "            dictionary=tree[1]\n",
    "            id3(split, target, columns[columns!=best_column], tree[1][name],dataDomain,parent,dictionary,key)\n",
    "\n",
    "def find_best_column(data,target,columns):\n",
    "    best_columns=np.array([])\n",
    "    for i in columns:\n",
    "        gain = entropy(data[target])-mutualInfo(data[target],data[i])\n",
    "        best_columns=np.append(best_columns, gain)\n",
    "    maxIndex=np.argmax(best_columns)\n",
    "    bestColumn=columns[maxIndex]\n",
    "    return bestColumn\n",
    "\n",
    "\n",
    "\n",
    "def mutualInfo(r1, r2):\n",
    "    mutualDep=0\n",
    "    S=len(r1)\n",
    "    entropyR1=entropy(r1)\n",
    "    for i in np.unique(r1):\n",
    "        for j in np.unique(r2):\n",
    "            Sab=len(r1[r2==j][r1[r2==j]==i])\n",
    "            Sb=len(r2[r2==j])\n",
    "            mutualDep+=(-(Sab)/S)*np.log2((Sab)/(Sb))\n",
    "    return mutualDep\n",
    "\n",
    "\n",
    "#Calculate the entropy for a, which is a set of values for a single feature.\n",
    "def entropy(a):\n",
    "    lenOfUnqElem=[]\n",
    "    unique_elem=np.unique(a)\n",
    "    for i in unique_elem:\n",
    "        lenUniq=len(a[a==i])\n",
    "        lenOfUnqElem.append(lenUniq)\n",
    "    entropyS=0\n",
    "    len_a=len(a)\n",
    "    for j in lenOfUnqElem:\n",
    "        entropyS+=((-j/len_a)*np.log2(j/len_a))\n",
    "    return entropyS\n",
    "\n",
    "    #Fill in the missing part here\n"
   ]
  },
  {
   "cell_type": "code",
   "execution_count": 4,
   "metadata": {},
   "outputs": [
    {
     "name": "stderr",
     "output_type": "stream",
     "text": [
      "/usr/lib/python3/dist-packages/ipykernel_launcher.py:54: RuntimeWarning: divide by zero encountered in log2\n",
      "/usr/lib/python3/dist-packages/ipykernel_launcher.py:54: RuntimeWarning: invalid value encountered in double_scalars\n",
      "/usr/lib/python3/dist-packages/ipykernel_launcher.py:18: FutureWarning: \n",
      "The current behaviour of 'Series.argmax' is deprecated, use 'idxmax'\n",
      "instead.\n",
      "The behavior of 'argmax' will be corrected to return the positional\n",
      "maximum in the future. For now, use 'series.values.argmax' or\n",
      "'np.argmax(np.array(values))' to get the position of the maximum\n",
      "row.\n",
      "/usr/lib/python3/dist-packages/ipykernel_launcher.py:8: FutureWarning: \n",
      "The current behaviour of 'Series.argmax' is deprecated, use 'idxmax'\n",
      "instead.\n",
      "The behavior of 'argmax' will be corrected to return the positional\n",
      "maximum in the future. For now, use 'series.values.argmax' or\n",
      "'np.argmax(np.array(values))' to get the position of the maximum\n",
      "row.\n",
      "  \n"
     ]
    }
   ],
   "source": [
    "# Create a dictionary to hold the tree  \n",
    "# It has to be outside of the function so we can access it later\n",
    "tree = []\n",
    "data=np.loadtxt(\"train.txt\")\n",
    "data=data.T\n",
    "data=pd.DataFrame(data,columns=[\"RISK\",\"AGE\", \"CRED_HIS\",\"INCOME\",\"RACE\",\"HEALTH\"])\n",
    "with open(\"deDomain.txt\",\"r\") as g:\n",
    "    dataDomain=json.load(g)\n",
    "id3(data, \"RISK\", np.array([\"AGE\", \"CRED_HIS\",\"RACE\",\"INCOME\",\"HEALTH\"]),tree,dataDomain,parent=None,dictionary=None)"
   ]
  },
  {
   "cell_type": "code",
   "execution_count": null,
   "metadata": {},
   "outputs": [],
   "source": []
  },
  {
   "cell_type": "code",
   "execution_count": 5,
   "metadata": {},
   "outputs": [
    {
     "data": {
      "text/plain": [
       "['CRED_HIS',\n",
       " {'1': ['AGE',\n",
       "   {'1': ['INCOME',\n",
       "     {'1': ['HEALTH',\n",
       "       {'1': ['RACE', {'1': '2', '2': '2', '3': '2'}],\n",
       "        '2': ['RACE', {'1': '2', '2': '2', '3': '2'}]}],\n",
       "      '2': '2'}],\n",
       "    '2': ['HEALTH',\n",
       "     {'1': ['RACE',\n",
       "       {'1': '2', '2': ['INCOME', {'1': '2', '2': '2'}], '3': '2'}],\n",
       "      '2': ['RACE',\n",
       "       {'1': ['INCOME', {'1': '2', '2': '2'}],\n",
       "        '2': '2',\n",
       "        '3': ['INCOME', {'1': '2', '2': '2'}]}]}],\n",
       "    '3': ['RACE',\n",
       "     {'1': ['HEALTH', {'1': ['INCOME', {'1': '2', '2': '2'}], '2': '2'}],\n",
       "      '2': ['HEALTH', {'1': ['INCOME', {'1': '1', '2': '1'}], '2': '1'}],\n",
       "      '3': ['HEALTH', {'1': '2', '2': '1'}]}]}],\n",
       "  '2': ['RACE',\n",
       "   {'1': ['AGE',\n",
       "     {'1': ['INCOME', {'1': '1', '2': ['HEALTH', {'1': '1', '2': '1'}]}],\n",
       "      '2': ['INCOME', {'1': '1', '2': ['HEALTH', {'1': '2', '2': '1'}]}],\n",
       "      '3': '1'}],\n",
       "    '2': '1',\n",
       "    '3': ['AGE',\n",
       "     {'1': '1',\n",
       "      '2': '1',\n",
       "      '3': ['INCOME', {'1': '1', '2': ['HEALTH', {'1': '1', '2': '1'}]}]}]}]}]"
      ]
     },
     "execution_count": 5,
     "metadata": {},
     "output_type": "execute_result"
    }
   ],
   "source": [
    "tree"
   ]
  },
  {
   "cell_type": "code",
   "execution_count": 6,
   "metadata": {},
   "outputs": [],
   "source": [
    "with open(\"treeFileFull.txt\",\"w\") as f:\n",
    "    json.dump(tree,f)"
   ]
  },
  {
   "cell_type": "code",
   "execution_count": 7,
   "metadata": {},
   "outputs": [
    {
     "name": "stdout",
     "output_type": "stream",
     "text": [
      "Plot un-pruned tree. Plot (Y/N)?\n"
     ]
    }
   ],
   "source": [
    "import numpy as np\n",
    "import json\n",
    "\n",
    "\n",
    "#Draw the (sub)decision tree rooted at tr. ls recovers the english\n",
    "#names for the values in each domain, pre gives the number of blank\n",
    "#spaces preceding each level, and f is the file where the drawing\n",
    "#will be stored\n",
    "def dispTree(tr,ls,sp,sb,f):\n",
    "    if type(tr) != list:\n",
    "        f.write(ls['RISK'][str(tr)])\n",
    "        return\n",
    "    f.write(tr[0]+'\\n') #attribute selected in current node\n",
    "    j = 0\n",
    "    for v in tr[1]:#values in the domain of this attribute\n",
    "        sp1 = sp.copy()\n",
    "        sb1 = sb.copy()\n",
    "        j += 1\n",
    "        for k in range(len(sp1)):\n",
    "            f.write(' '+sb1[k])\n",
    "            for p in range(sp1[k]):\n",
    "                f.write(' ')\n",
    "        f.write(' !--'+ls[tr[0]][v]+'--')\n",
    "        if list == type(tr[1][v]):\n",
    "            sk = len(ls[tr[0]][v]) + 5\n",
    "            sp1.append(sk)\n",
    "            if j < len(tr[1]):\n",
    "                sb1.append('!')\n",
    "            else:\n",
    "                sb1.append(' ')\n",
    "            dispTree(tr[1][v],ls,sp1,sb1,f)\n",
    "        else:\n",
    "            f.write(ls['RISK'][str(tr[1][v])]+'\\n')\n",
    "\n",
    "def showIt(fname):\n",
    "    msg = input('Plot un-pruned tree. Plot (Y/N)?')\n",
    "    if msg == 'Y':\n",
    "        with open('deDomain.txt') as f:\n",
    "            m = json.load(f)\n",
    "        with open(fname) as f:\n",
    "            tr = json.load(f)\n",
    "        with open('treePicFull.txt', 'w') as f:\n",
    "            f.write('')\n",
    "        with open('treePicFull.txt','a+') as f:\n",
    "            dispTree(tr,m,[],[],f)\n",
    "showIt(\"treeFileFull.txt\")"
   ]
  },
  {
   "cell_type": "code",
   "execution_count": null,
   "metadata": {},
   "outputs": [],
   "source": []
  },
  {
   "cell_type": "code",
   "execution_count": 8,
   "metadata": {},
   "outputs": [
    {
     "data": {
      "text/html": [
       "<div>\n",
       "<style scoped>\n",
       "    .dataframe tbody tr th:only-of-type {\n",
       "        vertical-align: middle;\n",
       "    }\n",
       "\n",
       "    .dataframe tbody tr th {\n",
       "        vertical-align: top;\n",
       "    }\n",
       "\n",
       "    .dataframe thead th {\n",
       "        text-align: right;\n",
       "    }\n",
       "</style>\n",
       "<table border=\"1\" class=\"dataframe\">\n",
       "  <thead>\n",
       "    <tr style=\"text-align: right;\">\n",
       "      <th></th>\n",
       "      <th>RISK</th>\n",
       "      <th>AGE</th>\n",
       "      <th>CRED_HIS</th>\n",
       "      <th>INCOME</th>\n",
       "      <th>RACE</th>\n",
       "      <th>HEALTH</th>\n",
       "    </tr>\n",
       "  </thead>\n",
       "  <tbody>\n",
       "    <tr>\n",
       "      <th>115</th>\n",
       "      <td>2.0</td>\n",
       "      <td>1.0</td>\n",
       "      <td>1.0</td>\n",
       "      <td>2.0</td>\n",
       "      <td>1.0</td>\n",
       "      <td>1.0</td>\n",
       "    </tr>\n",
       "    <tr>\n",
       "      <th>130</th>\n",
       "      <td>2.0</td>\n",
       "      <td>1.0</td>\n",
       "      <td>1.0</td>\n",
       "      <td>2.0</td>\n",
       "      <td>3.0</td>\n",
       "      <td>1.0</td>\n",
       "    </tr>\n",
       "  </tbody>\n",
       "</table>\n",
       "</div>"
      ],
      "text/plain": [
       "     RISK  AGE  CRED_HIS  INCOME  RACE  HEALTH\n",
       "115   2.0  1.0       1.0     2.0   1.0     1.0\n",
       "130   2.0  1.0       1.0     2.0   3.0     1.0"
      ]
     },
     "execution_count": 8,
     "metadata": {},
     "output_type": "execute_result"
    }
   ],
   "source": [
    "data[(data[\"CRED_HIS\"]==1)&(data[\"AGE\"]==1)&(data[\"INCOME\"]==2)]"
   ]
  },
  {
   "cell_type": "code",
   "execution_count": null,
   "metadata": {},
   "outputs": [],
   "source": []
  },
  {
   "cell_type": "code",
   "execution_count": null,
   "metadata": {},
   "outputs": [],
   "source": []
  },
  {
   "cell_type": "code",
   "execution_count": null,
   "metadata": {},
   "outputs": [],
   "source": []
  },
  {
   "cell_type": "code",
   "execution_count": 9,
   "metadata": {},
   "outputs": [
    {
     "ename": "SyntaxError",
     "evalue": "invalid syntax (<ipython-input-9-a3e8ac245b24>, line 1)",
     "output_type": "error",
     "traceback": [
      "\u001b[0;36m  File \u001b[0;32m\"<ipython-input-9-a3e8ac245b24>\"\u001b[0;36m, line \u001b[0;32m1\u001b[0m\n\u001b[0;31m    l=\u001b[0m\n\u001b[0m      ^\u001b[0m\n\u001b[0;31mSyntaxError\u001b[0m\u001b[0;31m:\u001b[0m invalid syntax\n"
     ]
    }
   ],
   "source": [
    "l="
   ]
  },
  {
   "cell_type": "code",
   "execution_count": null,
   "metadata": {},
   "outputs": [],
   "source": [
    "print(data[(data[\"CRED_HIS\"]==1)&(data[\"AGE\"]==3)&(data[\"HEALTH\"]==1)&(data[\"RACE\"]==1)])"
   ]
  },
  {
   "cell_type": "code",
   "execution_count": null,
   "metadata": {},
   "outputs": [],
   "source": [
    "data[\"RISK\"].value_counts()"
   ]
  },
  {
   "cell_type": "code",
   "execution_count": null,
   "metadata": {},
   "outputs": [],
   "source": [
    "np.random.randint(1,3)"
   ]
  },
  {
   "cell_type": "code",
   "execution_count": null,
   "metadata": {},
   "outputs": [],
   "source": [
    "l=[0]"
   ]
  },
  {
   "cell_type": "code",
   "execution_count": null,
   "metadata": {},
   "outputs": [],
   "source": [
    "l.insert(1,{})"
   ]
  },
  {
   "cell_type": "code",
   "execution_count": null,
   "metadata": {},
   "outputs": [],
   "source": [
    "l"
   ]
  },
  {
   "cell_type": "code",
   "execution_count": null,
   "metadata": {},
   "outputs": [],
   "source": [
    "l[1]"
   ]
  },
  {
   "cell_type": "code",
   "execution_count": null,
   "metadata": {},
   "outputs": [],
   "source": [
    "l[1][\"gg\"]"
   ]
  },
  {
   "cell_type": "code",
   "execution_count": null,
   "metadata": {},
   "outputs": [],
   "source": [
    "d={1:[]}"
   ]
  },
  {
   "cell_type": "code",
   "execution_count": null,
   "metadata": {},
   "outputs": [],
   "source": [
    "d[1]=5"
   ]
  },
  {
   "cell_type": "code",
   "execution_count": null,
   "metadata": {},
   "outputs": [],
   "source": [
    "d"
   ]
  },
  {
   "cell_type": "code",
   "execution_count": null,
   "metadata": {},
   "outputs": [],
   "source": [
    "import numpy as np\n",
    "import pandas as pd\n",
    "import json\n",
    "def id3(data, target, columns, tree,dataDomain,parent):\n",
    "    unique_targets = np.unique(data[target])\n",
    "\n",
    "    if len(data)==0:\n",
    "        tree[0]=str(parent[target].value_counts().argmax())[:-2]\n",
    "        return \n",
    "    elif len(unique_targets) == 1:\n",
    "        # Insert code here that assigns the \"label\" field to the node dictionary\n",
    "        if 1 in unique_targets:\n",
    "            tree[0]=str(1)\n",
    "        else:\n",
    "            tree[0]=str(2)\n",
    "        return\n",
    "    elif len(columns)==0:\n",
    "        tree[0]=str(data[target].value_counts().argmax())[:-2]\n",
    "        return\n",
    "    else:\n",
    "        parent=data\n",
    "        best_column = find_best_column(data, target, columns)\n",
    "        # Insert code here that assigns the \"column\" and \"median\" fields to the node dictionary\n",
    "        split_dict = []\n",
    "        for i in dataDomain[best_column].keys():\n",
    "            split_dict.append([i,data[data[best_column] == float(i)]])\n",
    "        tree[0]=best_column\n",
    "        print(best_column)\n",
    "        for name, split in split_dict:\n",
    "            tree[1][name] = [None,{}]\n",
    "            id3(split, target, columns[columns!=best_column], tree[1][name],dataDomain,parent)\n",
    "\n",
    "def find_best_column(data,target,columns):\n",
    "    best_columns=np.array([])\n",
    "    for i in columns:\n",
    "        gain = entropy(data[target])-mutualInfo(data[target],data[i])\n",
    "        best_columns=np.append(best_columns, gain)\n",
    "    maxIndex=np.argmax(best_columns)\n",
    "    bestColumn=columns[maxIndex]\n",
    "    return bestColumn\n",
    "\n",
    "\n",
    "\n",
    "def mutualInfo(r1, r2):\n",
    "    mutualDep=0\n",
    "    S=len(r1)\n",
    "    entropyR1=entropy(r1)\n",
    "    for i in np.unique(r1):\n",
    "        for j in np.unique(r2):\n",
    "            Sab=len(r1[r2==j][r1[r2==j]==i])\n",
    "            Sb=len(r2[r2==j])\n",
    "            mutualDep+=(-(Sab)/S)*np.log2((Sab)/(Sb))\n",
    "    return mutualDep\n",
    "\n",
    "\n",
    "#Calculate the entropy for a, which is a set of values for a single feature.\n",
    "def entropy(a):\n",
    "    lenOfUnqElem=[]\n",
    "    unique_elem=np.unique(a)\n",
    "    for i in unique_elem:\n",
    "        lenUniq=len(a[a==i])\n",
    "        lenOfUnqElem.append(lenUniq)\n",
    "    entropyS=0\n",
    "    len_a=len(a)\n",
    "    for j in lenOfUnqElem:\n",
    "        entropyS+=((-j/len_a)*np.log2(j/len_a))\n",
    "    return entropyS\n",
    "\n",
    "    #Fill in the missing part here\n",
    "# Create a dictionary to hold the tree  \n",
    "# It has to be outside of the function so we can access it later\n",
    "\n",
    "tree = [None,{}]\n",
    "data=np.loadtxt(\"train.txt\")\n",
    "data=data.T\n",
    "data=pd.DataFrame(data,columns=[\"RISK\",\"AGE\", \"CRED_HIS\",\"INCOME\",\"RACE\",\"HEALTH\"])\n",
    "with open(\"deDomain.txt\",\"r\") as g:\n",
    "    dataDomain=json.load(g)\n",
    "id3(data, \"RISK\", np.array([\"AGE\", \"CRED_HIS\",\"INCOME\",\"RACE\",\"HEALTH\"]),tree,dataDomain,parent=None)\n",
    "with open(\"treeFileFull.txt\",\"w\") as f:\n",
    "    json.dump(tree,f)\n",
    "\n",
    "#names for the values in each domain, pre gives the number of blank\n",
    "#spaces preceding each level, and f is the file where the drawing\n",
    "#will be stored\n",
    "def dispTree(tr,ls,sp,sb,f):\n",
    "    if type(tr) != list:\n",
    "        f.write(ls['RISK'][str(tr)])\n",
    "        return\n",
    "    f.write(tr[0]+'\\n') #attribute selected in current node\n",
    "    j = 0\n",
    "    for v in tr[1]:#values in the domain of this attribute\n",
    "        sp1 = sp.copy()\n",
    "        sb1 = sb.copy()\n",
    "        j += 1\n",
    "        for k in range(len(sp1)):\n",
    "            f.write(' '+sb1[k])\n",
    "            for p in range(sp1[k]):\n",
    "                f.write(' ')\n",
    "        f.write(' !--'+ls[tr[0]][v]+'--')\n",
    "        if list == type(tr[1][v]):\n",
    "            sk = len(ls[tr[0]][v]) + 5\n",
    "            sp1.append(sk)\n",
    "            if j < len(tr[1]):\n",
    "                sb1.append('!')\n",
    "            else:\n",
    "                sb1.append(' ')\n",
    "            dispTree(tr[1][v],ls,sp1,sb1,f)\n",
    "        else:\n",
    "            f.write(ls['RISK'][str(tr[1][v])]+'\\n')\n",
    "\n",
    "def showIt(fname):\n",
    "    msg = input('Plot un-pruned tree. Plot (Y/N)?')\n",
    "    if msg == 'Y':\n",
    "        with open('deDomain.txt') as f:\n",
    "            m = json.load(f)\n",
    "        with open(fname) as f:\n",
    "            tr = json.load(f)\n",
    "        with open('treePicFull.txt', 'w') as f:\n",
    "            f.write('')\n",
    "        with open('treePicFull.txt','a+') as f:\n",
    "            dispTree(tr,m,[],[],f)\n",
    "showIt(\"treeFileFull.txt\")\n",
    "tree"
   ]
  },
  {
   "cell_type": "code",
   "execution_count": null,
   "metadata": {},
   "outputs": [],
   "source": [
    "data.head()"
   ]
  },
  {
   "cell_type": "code",
   "execution_count": 10,
   "metadata": {},
   "outputs": [],
   "source": [
    "y=data[\"RISK\"].astype(str)"
   ]
  },
  {
   "cell_type": "code",
   "execution_count": 11,
   "metadata": {},
   "outputs": [],
   "source": [
    "x=data[data.columns[data.columns!=\"RISK\"]]"
   ]
  },
  {
   "cell_type": "code",
   "execution_count": 12,
   "metadata": {},
   "outputs": [
    {
     "name": "stderr",
     "output_type": "stream",
     "text": [
      "/usr/lib/python3/dist-packages/ipykernel_launcher.py:2: SettingWithCopyWarning: \n",
      "A value is trying to be set on a copy of a slice from a DataFrame.\n",
      "Try using .loc[row_indexer,col_indexer] = value instead\n",
      "\n",
      "See the caveats in the documentation: http://pandas.pydata.org/pandas-docs/stable/indexing.html#indexing-view-versus-copy\n",
      "  \n"
     ]
    },
    {
     "data": {
      "text/plain": [
       "AGE         object\n",
       "CRED_HIS    object\n",
       "INCOME      object\n",
       "RACE        object\n",
       "HEALTH      object\n",
       "dtype: object"
      ]
     },
     "execution_count": 12,
     "metadata": {},
     "output_type": "execute_result"
    }
   ],
   "source": [
    "for i in x.columns:\n",
    "    x[i]=x[i].astype(str)\n",
    "x.dtypes"
   ]
  },
  {
   "cell_type": "code",
   "execution_count": 13,
   "metadata": {},
   "outputs": [],
   "source": [
    "from sklearn.tree import DecisionTreeClassifier"
   ]
  },
  {
   "cell_type": "code",
   "execution_count": 14,
   "metadata": {},
   "outputs": [
    {
     "data": {
      "text/plain": [
       "DecisionTreeClassifier(class_weight=None, criterion='entropy', max_depth=None,\n",
       "                       max_features=None, max_leaf_nodes=None,\n",
       "                       min_impurity_decrease=0.0, min_impurity_split=None,\n",
       "                       min_samples_leaf=1, min_samples_split=2,\n",
       "                       min_weight_fraction_leaf=0.0, presort=False,\n",
       "                       random_state=None, splitter='best')"
      ]
     },
     "execution_count": 14,
     "metadata": {},
     "output_type": "execute_result"
    }
   ],
   "source": [
    "dt=DecisionTreeClassifier(criterion='entropy')\n",
    "dt.fit(x.values,y.values)"
   ]
  },
  {
   "cell_type": "code",
   "execution_count": 15,
   "metadata": {},
   "outputs": [
    {
     "data": {
      "text/plain": [
       "7"
      ]
     },
     "execution_count": 15,
     "metadata": {},
     "output_type": "execute_result"
    }
   ],
   "source": [
    "dt.get_depth()"
   ]
  },
  {
   "cell_type": "code",
   "execution_count": 16,
   "metadata": {},
   "outputs": [
    {
     "ename": "NameError",
     "evalue": "name 'StringIO' is not defined",
     "output_type": "error",
     "traceback": [
      "\u001b[0;31m---------------------------------------------------------------------------\u001b[0m",
      "\u001b[0;31mNameError\u001b[0m                                 Traceback (most recent call last)",
      "\u001b[0;32m<ipython-input-16-e5eb19f40977>\u001b[0m in \u001b[0;36m<module>\u001b[0;34m()\u001b[0m\n\u001b[1;32m      3\u001b[0m \u001b[0;34m\u001b[0m\u001b[0m\n\u001b[1;32m      4\u001b[0m \u001b[0;32mfrom\u001b[0m \u001b[0msklearn\u001b[0m \u001b[0;32mimport\u001b[0m \u001b[0mtree\u001b[0m\u001b[0;34m\u001b[0m\u001b[0;34m\u001b[0m\u001b[0m\n\u001b[0;32m----> 5\u001b[0;31m \u001b[0mdot_data\u001b[0m \u001b[0;34m=\u001b[0m \u001b[0mStringIO\u001b[0m\u001b[0;34m(\u001b[0m\u001b[0;34m)\u001b[0m\u001b[0;34m\u001b[0m\u001b[0;34m\u001b[0m\u001b[0m\n\u001b[0m\u001b[1;32m      6\u001b[0m \u001b[0mtree\u001b[0m\u001b[0;34m.\u001b[0m\u001b[0mexport_graphviz\u001b[0m\u001b[0;34m(\u001b[0m\u001b[0mdt\u001b[0m\u001b[0;34m,\u001b[0m \u001b[0mout_file\u001b[0m\u001b[0;34m=\u001b[0m\u001b[0mdot_data\u001b[0m\u001b[0;34m)\u001b[0m\u001b[0;34m\u001b[0m\u001b[0;34m\u001b[0m\u001b[0m\n\u001b[1;32m      7\u001b[0m \u001b[0mdot_data\u001b[0m\u001b[0;34m.\u001b[0m\u001b[0mgetvalue\u001b[0m\u001b[0;34m(\u001b[0m\u001b[0;34m)\u001b[0m\u001b[0;34m\u001b[0m\u001b[0;34m\u001b[0m\u001b[0m\n",
      "\u001b[0;31mNameError\u001b[0m: name 'StringIO' is not defined"
     ]
    }
   ],
   "source": [
    "import pydot\n",
    "from IPython import display\n",
    "\n",
    "from sklearn import tree\n",
    "dot_data = StringIO()\n",
    "tree.export_graphviz(dt, out_file=dot_data)\n",
    "dot_data.getvalue()\n",
    "(graph, ) = pydot.graph_from_dot_data(dot_data.getvalue())\n",
    "print('\"graph\" is object of type {}'.format(type(graph)))\n",
    "\n",
    "display.Image(graph.create_png())"
   ]
  },
  {
   "cell_type": "code",
   "execution_count": 26,
   "metadata": {},
   "outputs": [],
   "source": [
    "def mutualInfo1(r1, r2):\n",
    "    mutualDep=0\n",
    "    S=len(r1)\n",
    "    entropyR1=entropy(r1)\n",
    "    for i in np.unique(r1):\n",
    "        for j in np.unique(r2):\n",
    "            Sab=len(r1[r2==j][r1[r2==j]==i])\n",
    "            print(\"SA\",Sab)\n",
    "            Sb=len(r2[r2==j])\n",
    "            print(\"Sb\",Sb)\n",
    "            if(Sab!=0):\n",
    "                mutualDep+=(-(Sab)/S)*np.log2((Sab)/(Sb))\n",
    "    return mutualDep\n",
    "\n",
    "\n",
    "#Calculate the entropy for a, which is a set of values for a single feature.\n",
    "def entropy1(a):\n",
    "    lenOfUnqElem=[]\n",
    "    unique_elem=np.unique(a)\n",
    "    for i in unique_elem:\n",
    "        lenUniq=len(a[a==i])\n",
    "        lenOfUnqElem.append(lenUniq)\n",
    "    entropyS=0\n",
    "    len_a=len(a)\n",
    "    for j in lenOfUnqElem:\n",
    "        entropyS+=((-j/len_a)*np.log2(j/len_a))\n",
    "    return entropyS"
   ]
  },
  {
   "cell_type": "code",
   "execution_count": 27,
   "metadata": {},
   "outputs": [
    {
     "data": {
      "text/html": [
       "<div>\n",
       "<style scoped>\n",
       "    .dataframe tbody tr th:only-of-type {\n",
       "        vertical-align: middle;\n",
       "    }\n",
       "\n",
       "    .dataframe tbody tr th {\n",
       "        vertical-align: top;\n",
       "    }\n",
       "\n",
       "    .dataframe thead th {\n",
       "        text-align: right;\n",
       "    }\n",
       "</style>\n",
       "<table border=\"1\" class=\"dataframe\">\n",
       "  <thead>\n",
       "    <tr style=\"text-align: right;\">\n",
       "      <th></th>\n",
       "      <th>RISK</th>\n",
       "      <th>AGE</th>\n",
       "      <th>CRED_HIS</th>\n",
       "      <th>INCOME</th>\n",
       "      <th>RACE</th>\n",
       "      <th>HEALTH</th>\n",
       "    </tr>\n",
       "  </thead>\n",
       "  <tbody>\n",
       "    <tr>\n",
       "      <th>111</th>\n",
       "      <td>2.0</td>\n",
       "      <td>3.0</td>\n",
       "      <td>2.0</td>\n",
       "      <td>2.0</td>\n",
       "      <td>3.0</td>\n",
       "      <td>1.0</td>\n",
       "    </tr>\n",
       "    <tr>\n",
       "      <th>116</th>\n",
       "      <td>2.0</td>\n",
       "      <td>1.0</td>\n",
       "      <td>2.0</td>\n",
       "      <td>2.0</td>\n",
       "      <td>1.0</td>\n",
       "      <td>2.0</td>\n",
       "    </tr>\n",
       "    <tr>\n",
       "      <th>118</th>\n",
       "      <td>2.0</td>\n",
       "      <td>2.0</td>\n",
       "      <td>2.0</td>\n",
       "      <td>2.0</td>\n",
       "      <td>1.0</td>\n",
       "      <td>2.0</td>\n",
       "    </tr>\n",
       "    <tr>\n",
       "      <th>120</th>\n",
       "      <td>2.0</td>\n",
       "      <td>2.0</td>\n",
       "      <td>2.0</td>\n",
       "      <td>2.0</td>\n",
       "      <td>1.0</td>\n",
       "      <td>1.0</td>\n",
       "    </tr>\n",
       "    <tr>\n",
       "      <th>124</th>\n",
       "      <td>2.0</td>\n",
       "      <td>2.0</td>\n",
       "      <td>2.0</td>\n",
       "      <td>2.0</td>\n",
       "      <td>1.0</td>\n",
       "      <td>2.0</td>\n",
       "    </tr>\n",
       "  </tbody>\n",
       "</table>\n",
       "</div>"
      ],
      "text/plain": [
       "     RISK  AGE  CRED_HIS  INCOME  RACE  HEALTH\n",
       "111   2.0  3.0       2.0     2.0   3.0     1.0\n",
       "116   2.0  1.0       2.0     2.0   1.0     2.0\n",
       "118   2.0  2.0       2.0     2.0   1.0     2.0\n",
       "120   2.0  2.0       2.0     2.0   1.0     1.0\n",
       "124   2.0  2.0       2.0     2.0   1.0     2.0"
      ]
     },
     "execution_count": 27,
     "metadata": {},
     "output_type": "execute_result"
    }
   ],
   "source": [
    "new=data[data[\"CRED_HIS\"]==2]\n",
    "new.tail()"
   ]
  },
  {
   "cell_type": "code",
   "execution_count": 28,
   "metadata": {},
   "outputs": [
    {
     "name": "stdout",
     "output_type": "stream",
     "text": [
      "SA 16\n",
      "Sb 17\n",
      "SA 14\n",
      "Sb 17\n",
      "SA 48\n",
      "Sb 49\n",
      "SA 1\n",
      "Sb 17\n",
      "SA 3\n",
      "Sb 17\n",
      "SA 1\n",
      "Sb 49\n",
      "SA 15\n",
      "Sb 15\n",
      "SA 63\n",
      "Sb 68\n",
      "SA 0\n",
      "Sb 15\n",
      "SA 5\n",
      "Sb 68\n",
      "SA 30\n",
      "Sb 34\n",
      "SA 29\n",
      "Sb 29\n",
      "SA 19\n",
      "Sb 20\n",
      "SA 4\n",
      "Sb 34\n",
      "SA 0\n",
      "Sb 29\n",
      "SA 1\n",
      "Sb 20\n",
      "SA 33\n",
      "Sb 35\n",
      "SA 45\n",
      "Sb 48\n",
      "SA 2\n",
      "Sb 35\n",
      "SA 3\n",
      "Sb 48\n"
     ]
    },
    {
     "data": {
      "text/plain": [
       "array([3.97445390e-02, 1.79284543e-02, 4.53289323e-02, 8.95952318e-05])"
      ]
     },
     "execution_count": 28,
     "metadata": {},
     "output_type": "execute_result"
    }
   ],
   "source": [
    "def find_best_column1(data,target,columns):\n",
    "    best_columns=np.array([])\n",
    "    for i in columns:\n",
    "        gain = entropy1(data[target])-mutualInfo1(data[target],data[i])\n",
    "        best_columns=np.append(best_columns, gain)\n",
    "    maxIndex=np.argmax(best_columns)\n",
    "    bestColumn=columns[maxIndex]\n",
    "    return best_columns\n",
    "find_best_column1(new,\"RISK\",[\"AGE\",\"INCOME\",\"RACE\",\"HEALTH\"])"
   ]
  },
  {
   "cell_type": "code",
   "execution_count": null,
   "metadata": {},
   "outputs": [],
   "source": []
  },
  {
   "cell_type": "code",
   "execution_count": null,
   "metadata": {},
   "outputs": [],
   "source": []
  }
 ],
 "metadata": {
  "kernelspec": {
   "display_name": "Python 3",
   "language": "python",
   "name": "python3"
  },
  "language_info": {
   "codemirror_mode": {
    "name": "ipython",
    "version": 3
   },
   "file_extension": ".py",
   "mimetype": "text/x-python",
   "name": "python",
   "nbconvert_exporter": "python",
   "pygments_lexer": "ipython3",
   "version": "3.6.8"
  }
 },
 "nbformat": 4,
 "nbformat_minor": 2
}
