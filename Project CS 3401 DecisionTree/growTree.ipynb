{
 "cells": [
  {
   "cell_type": "code",
   "execution_count": 167,
   "metadata": {},
   "outputs": [],
   "source": [
    "import numpy as np\n",
    "import pandas as pd\n",
    "import json\n",
    "def id3(data, target, columns, tree,dataDomain,parent,dictionary,key=\"\"):\n",
    "    unique_targets = np.unique(data[target])\n",
    "\n",
    "    if len(data)==0:\n",
    "        dictionary[key]=(str(parent[target].value_counts().argmax())[:-2])\n",
    "        return \n",
    "    elif len(unique_targets) == 1:\n",
    "        # Insert code here that assigns the \"label\" field to the node dictionary\n",
    "        if 1 in unique_targets:\n",
    "            dictionary[key]=(str(1))\n",
    "        else:\n",
    "            dictionary[key]=(str(2))\n",
    "        return \n",
    "    elif len(columns)==0:\n",
    "        dictionary[key]=str(data[target].value_counts().argmax())[:-2]\n",
    "        return \n",
    "    else:\n",
    "        parent=data\n",
    "        best_column = find_best_column(data, target, columns)\n",
    "        # Insert code here that assigns the \"column\" and \"median\" fields to the node dictionary\n",
    "        split_dict = []\n",
    "        for i in dataDomain[best_column].keys():\n",
    "            split_dict.append([i,data[data[best_column] == float(i)]])\n",
    "        tree.insert(0,best_column)\n",
    "        tree.insert(1,{})\n",
    "        for name, split in split_dict:\n",
    "            key=name\n",
    "            tree[1][name]=[]\n",
    "            dictionary=tree[1]\n",
    "            id3(split, target, columns[columns!=best_column], tree[1][name],dataDomain,parent,dictionary,key)\n",
    "\n",
    "def find_best_column(data,target,columns):\n",
    "    best_columns=np.array([])\n",
    "    for i in columns:\n",
    "        gain = entropy(data[target])-mutualInfo(data[target],data[i])\n",
    "        best_columns=np.append(best_columns, gain)\n",
    "    maxIndex=np.argmax(best_columns)\n",
    "    bestColumn=columns[maxIndex]\n",
    "    return bestColumn\n",
    "\n",
    "\n",
    "\n",
    "def mutualInfo(r1, r2):\n",
    "    mutualDep=0\n",
    "    S=len(r1)\n",
    "    entropyR1=entropy(r1)\n",
    "    for i in np.unique(r1):\n",
    "        for j in np.unique(r2):\n",
    "            Sab=len(r1[r2==j][r1[r2==j]==i])\n",
    "            Sb=len(r2[r2==j])\n",
    "            mutualDep+=(-(Sab)/S)*np.log2((Sab)/(Sb))\n",
    "    return mutualDep\n",
    "\n",
    "\n",
    "#Calculate the entropy for a, which is a set of values for a single feature.\n",
    "def entropy(a):\n",
    "    lenOfUnqElem=[]\n",
    "    unique_elem=np.unique(a)\n",
    "    for i in unique_elem:\n",
    "        lenUniq=len(a[a==i])\n",
    "        lenOfUnqElem.append(lenUniq)\n",
    "    entropyS=0\n",
    "    len_a=len(a)\n",
    "    for j in lenOfUnqElem:\n",
    "        entropyS+=((-j/len_a)*np.log2(j/len_a))\n",
    "    return entropyS\n",
    "\n",
    "    #Fill in the missing part here\n"
   ]
  },
  {
   "cell_type": "code",
   "execution_count": 168,
   "metadata": {},
   "outputs": [
    {
     "name": "stderr",
     "output_type": "stream",
     "text": [
      "/usr/lib/python3/dist-packages/ipykernel_launcher.py:54: RuntimeWarning: divide by zero encountered in log2\n",
      "/usr/lib/python3/dist-packages/ipykernel_launcher.py:54: RuntimeWarning: invalid value encountered in double_scalars\n",
      "/usr/lib/python3/dist-packages/ipykernel_launcher.py:18: FutureWarning: \n",
      "The current behaviour of 'Series.argmax' is deprecated, use 'idxmax'\n",
      "instead.\n",
      "The behavior of 'argmax' will be corrected to return the positional\n",
      "maximum in the future. For now, use 'series.values.argmax' or\n",
      "'np.argmax(np.array(values))' to get the position of the maximum\n",
      "row.\n",
      "/usr/lib/python3/dist-packages/ipykernel_launcher.py:8: FutureWarning: \n",
      "The current behaviour of 'Series.argmax' is deprecated, use 'idxmax'\n",
      "instead.\n",
      "The behavior of 'argmax' will be corrected to return the positional\n",
      "maximum in the future. For now, use 'series.values.argmax' or\n",
      "'np.argmax(np.array(values))' to get the position of the maximum\n",
      "row.\n",
      "  \n"
     ]
    }
   ],
   "source": [
    "# Create a dictionary to hold the tree  \n",
    "# It has to be outside of the function so we can access it later\n",
    "tree = []\n",
    "data=np.loadtxt(\"train.txt\")\n",
    "data=data.T\n",
    "data=pd.DataFrame(data,columns=[\"RISK\",\"AGE\", \"CRED_HIS\",\"INCOME\",\"RACE\",\"HEALTH\"])\n",
    "with open(\"deDomain.txt\",\"r\") as g:\n",
    "    dataDomain=json.load(g)\n",
    "id3(data, \"RISK\", np.array([\"AGE\", \"CRED_HIS\",\"INCOME\",\"RACE\",\"HEALTH\"]),tree,dataDomain,parent=None,dictionary=None)"
   ]
  },
  {
   "cell_type": "code",
   "execution_count": null,
   "metadata": {},
   "outputs": [],
   "source": []
  },
  {
   "cell_type": "code",
   "execution_count": 169,
   "metadata": {},
   "outputs": [
    {
     "data": {
      "text/plain": [
       "['CRED_HIS',\n",
       " {'1': ['AGE',\n",
       "   {'1': ['INCOME',\n",
       "     {'1': ['HEALTH',\n",
       "       {'1': ['RACE', {'1': '2', '2': '2', '3': '2'}],\n",
       "        '2': ['RACE', {'1': '2', '2': '2', '3': '2'}]}],\n",
       "      '2': '2'}],\n",
       "    '2': ['HEALTH',\n",
       "     {'1': ['RACE',\n",
       "       {'1': '2', '2': ['INCOME', {'1': '2', '2': '2'}], '3': '2'}],\n",
       "      '2': ['RACE',\n",
       "       {'1': ['INCOME', {'1': '2', '2': '2'}],\n",
       "        '2': '2',\n",
       "        '3': ['INCOME', {'1': '2', '2': '2'}]}]}],\n",
       "    '3': ['RACE',\n",
       "     {'1': ['HEALTH', {'1': ['INCOME', {'1': '2', '2': '2'}], '2': '2'}],\n",
       "      '2': ['HEALTH', {'1': ['INCOME', {'1': '1', '2': '1'}], '2': '1'}],\n",
       "      '3': ['HEALTH', {'1': '2', '2': '1'}]}]}],\n",
       "  '2': ['INCOME',\n",
       "   {'1': '1',\n",
       "    '2': ['RACE',\n",
       "     {'1': ['AGE',\n",
       "       {'1': ['HEALTH', {'1': '1', '2': '1'}],\n",
       "        '2': ['HEALTH', {'1': '2', '2': '1'}],\n",
       "        '3': '1'}],\n",
       "      '2': '1',\n",
       "      '3': ['AGE',\n",
       "       {'1': '1', '2': '1', '3': ['HEALTH', {'1': '1', '2': '1'}]}]}]}]}]"
      ]
     },
     "execution_count": 169,
     "metadata": {},
     "output_type": "execute_result"
    }
   ],
   "source": [
    "tree"
   ]
  },
  {
   "cell_type": "code",
   "execution_count": 170,
   "metadata": {},
   "outputs": [],
   "source": [
    "with open(\"treeFileFull.txt\",\"w\") as f:\n",
    "    json.dump(tree,f)"
   ]
  },
  {
   "cell_type": "code",
   "execution_count": 172,
   "metadata": {},
   "outputs": [
    {
     "name": "stdout",
     "output_type": "stream",
     "text": [
      "Plot un-pruned tree. Plot (Y/N)?Y\n"
     ]
    }
   ],
   "source": [
    "import numpy as np\n",
    "import json\n",
    "\n",
    "\n",
    "#Draw the (sub)decision tree rooted at tr. ls recovers the english\n",
    "#names for the values in each domain, pre gives the number of blank\n",
    "#spaces preceding each level, and f is the file where the drawing\n",
    "#will be stored\n",
    "def dispTree(tr,ls,sp,sb,f):\n",
    "    if type(tr) != list:\n",
    "        f.write(ls['RISK'][str(tr)])\n",
    "        return\n",
    "    f.write(tr[0]+'\\n') #attribute selected in current node\n",
    "    j = 0\n",
    "    for v in tr[1]:#values in the domain of this attribute\n",
    "        sp1 = sp.copy()\n",
    "        sb1 = sb.copy()\n",
    "        j += 1\n",
    "        for k in range(len(sp1)):\n",
    "            f.write(' '+sb1[k])\n",
    "            for p in range(sp1[k]):\n",
    "                f.write(' ')\n",
    "        f.write(' !--'+ls[tr[0]][v]+'--')\n",
    "        if list == type(tr[1][v]):\n",
    "            sk = len(ls[tr[0]][v]) + 5\n",
    "            sp1.append(sk)\n",
    "            if j < len(tr[1]):\n",
    "                sb1.append('!')\n",
    "            else:\n",
    "                sb1.append(' ')\n",
    "            dispTree(tr[1][v],ls,sp1,sb1,f)\n",
    "        else:\n",
    "            f.write(ls['RISK'][str(tr[1][v])]+'\\n')\n",
    "\n",
    "def showIt(fname):\n",
    "    msg = input('Plot un-pruned tree. Plot (Y/N)?')\n",
    "    if msg == 'Y':\n",
    "        with open('deDomain.txt') as f:\n",
    "            m = json.load(f)\n",
    "        with open(fname) as f:\n",
    "            tr = json.load(f)\n",
    "        with open('treePicFull.txt', 'w') as f:\n",
    "            f.write('')\n",
    "        with open('treePicFull.txt','a+') as f:\n",
    "            dispTree(tr,m,[],[],f)\n",
    "showIt(\"treeFileFull.txt\")"
   ]
  },
  {
   "cell_type": "code",
   "execution_count": null,
   "metadata": {},
   "outputs": [],
   "source": []
  },
  {
   "cell_type": "code",
   "execution_count": 122,
   "metadata": {},
   "outputs": [
    {
     "data": {
      "text/html": [
       "<div>\n",
       "<style scoped>\n",
       "    .dataframe tbody tr th:only-of-type {\n",
       "        vertical-align: middle;\n",
       "    }\n",
       "\n",
       "    .dataframe tbody tr th {\n",
       "        vertical-align: top;\n",
       "    }\n",
       "\n",
       "    .dataframe thead th {\n",
       "        text-align: right;\n",
       "    }\n",
       "</style>\n",
       "<table border=\"1\" class=\"dataframe\">\n",
       "  <thead>\n",
       "    <tr style=\"text-align: right;\">\n",
       "      <th></th>\n",
       "      <th>RISK</th>\n",
       "      <th>AGE</th>\n",
       "      <th>CRED_HIS</th>\n",
       "      <th>INCOME</th>\n",
       "      <th>RACE</th>\n",
       "      <th>HEALTH</th>\n",
       "    </tr>\n",
       "  </thead>\n",
       "  <tbody>\n",
       "    <tr>\n",
       "      <th>115</th>\n",
       "      <td>2.0</td>\n",
       "      <td>1.0</td>\n",
       "      <td>1.0</td>\n",
       "      <td>2.0</td>\n",
       "      <td>1.0</td>\n",
       "      <td>1.0</td>\n",
       "    </tr>\n",
       "    <tr>\n",
       "      <th>130</th>\n",
       "      <td>2.0</td>\n",
       "      <td>1.0</td>\n",
       "      <td>1.0</td>\n",
       "      <td>2.0</td>\n",
       "      <td>3.0</td>\n",
       "      <td>1.0</td>\n",
       "    </tr>\n",
       "  </tbody>\n",
       "</table>\n",
       "</div>"
      ],
      "text/plain": [
       "     RISK  AGE  CRED_HIS  INCOME  RACE  HEALTH\n",
       "115   2.0  1.0       1.0     2.0   1.0     1.0\n",
       "130   2.0  1.0       1.0     2.0   3.0     1.0"
      ]
     },
     "execution_count": 122,
     "metadata": {},
     "output_type": "execute_result"
    }
   ],
   "source": [
    "data[(data[\"CRED_HIS\"]==1)&(data[\"AGE\"]==1)&(data[\"INCOME\"]==2)]"
   ]
  },
  {
   "cell_type": "code",
   "execution_count": null,
   "metadata": {},
   "outputs": [],
   "source": []
  },
  {
   "cell_type": "code",
   "execution_count": null,
   "metadata": {},
   "outputs": [],
   "source": []
  },
  {
   "cell_type": "code",
   "execution_count": null,
   "metadata": {},
   "outputs": [],
   "source": []
  },
  {
   "cell_type": "code",
   "execution_count": 133,
   "metadata": {},
   "outputs": [],
   "source": [
    "l="
   ]
  },
  {
   "cell_type": "code",
   "execution_count": 8,
   "metadata": {},
   "outputs": [
    {
     "name": "stdout",
     "output_type": "stream",
     "text": [
      "     RISK  AGE  CRED_HIS  INCOME  RACE  HEALTH\n",
      "79    1.0  3.0       1.0     1.0   1.0     1.0\n",
      "125   2.0  3.0       1.0     1.0   1.0     1.0\n"
     ]
    }
   ],
   "source": [
    "print(data[(data[\"CRED_HIS\"]==1)&(data[\"AGE\"]==3)&(data[\"HEALTH\"]==1)&(data[\"RACE\"]==1)])"
   ]
  },
  {
   "cell_type": "code",
   "execution_count": 9,
   "metadata": {},
   "outputs": [
    {
     "data": {
      "text/plain": [
       "1.0    100\n",
       "2.0     40\n",
       "Name: RISK, dtype: int64"
      ]
     },
     "execution_count": 9,
     "metadata": {},
     "output_type": "execute_result"
    }
   ],
   "source": [
    "data[\"RISK\"].value_counts()"
   ]
  },
  {
   "cell_type": "code",
   "execution_count": 10,
   "metadata": {},
   "outputs": [
    {
     "data": {
      "text/plain": [
       "2"
      ]
     },
     "execution_count": 10,
     "metadata": {},
     "output_type": "execute_result"
    }
   ],
   "source": [
    "np.random.randint(1,3)"
   ]
  },
  {
   "cell_type": "code",
   "execution_count": 70,
   "metadata": {},
   "outputs": [],
   "source": [
    "l=[0]"
   ]
  },
  {
   "cell_type": "code",
   "execution_count": 71,
   "metadata": {},
   "outputs": [],
   "source": [
    "l.insert(1,{})"
   ]
  },
  {
   "cell_type": "code",
   "execution_count": 72,
   "metadata": {},
   "outputs": [
    {
     "data": {
      "text/plain": [
       "[0, {}]"
      ]
     },
     "execution_count": 72,
     "metadata": {},
     "output_type": "execute_result"
    }
   ],
   "source": [
    "l"
   ]
  },
  {
   "cell_type": "code",
   "execution_count": 73,
   "metadata": {},
   "outputs": [
    {
     "data": {
      "text/plain": [
       "{}"
      ]
     },
     "execution_count": 73,
     "metadata": {},
     "output_type": "execute_result"
    }
   ],
   "source": [
    "l[1]"
   ]
  },
  {
   "cell_type": "code",
   "execution_count": 74,
   "metadata": {},
   "outputs": [
    {
     "ename": "KeyError",
     "evalue": "'gg'",
     "output_type": "error",
     "traceback": [
      "\u001b[0;31m---------------------------------------------------------------------------\u001b[0m",
      "\u001b[0;31mKeyError\u001b[0m                                  Traceback (most recent call last)",
      "\u001b[0;32m<ipython-input-74-3bb31b14eb1b>\u001b[0m in \u001b[0;36m<module>\u001b[0;34m()\u001b[0m\n\u001b[0;32m----> 1\u001b[0;31m \u001b[0ml\u001b[0m\u001b[0;34m[\u001b[0m\u001b[0;36m1\u001b[0m\u001b[0;34m]\u001b[0m\u001b[0;34m[\u001b[0m\u001b[0;34m\"gg\"\u001b[0m\u001b[0;34m]\u001b[0m\u001b[0;34m\u001b[0m\u001b[0;34m\u001b[0m\u001b[0m\n\u001b[0m",
      "\u001b[0;31mKeyError\u001b[0m: 'gg'"
     ]
    }
   ],
   "source": [
    "l[1][\"gg\"]"
   ]
  },
  {
   "cell_type": "code",
   "execution_count": 126,
   "metadata": {},
   "outputs": [],
   "source": [
    "d={1:[]}"
   ]
  },
  {
   "cell_type": "code",
   "execution_count": 127,
   "metadata": {},
   "outputs": [],
   "source": [
    "d[1]=5"
   ]
  },
  {
   "cell_type": "code",
   "execution_count": 129,
   "metadata": {},
   "outputs": [
    {
     "data": {
      "text/plain": [
       "{1: 5}"
      ]
     },
     "execution_count": 129,
     "metadata": {},
     "output_type": "execute_result"
    }
   ],
   "source": [
    "d"
   ]
  },
  {
   "cell_type": "code",
   "execution_count": 154,
   "metadata": {},
   "outputs": [
    {
     "name": "stderr",
     "output_type": "stream",
     "text": [
      "/usr/lib/python3/dist-packages/ipykernel_launcher.py:52: RuntimeWarning: divide by zero encountered in log2\n",
      "/usr/lib/python3/dist-packages/ipykernel_launcher.py:52: RuntimeWarning: invalid value encountered in double_scalars\n",
      "/usr/lib/python3/dist-packages/ipykernel_launcher.py:18: FutureWarning: \n",
      "The current behaviour of 'Series.argmax' is deprecated, use 'idxmax'\n",
      "instead.\n",
      "The behavior of 'argmax' will be corrected to return the positional\n",
      "maximum in the future. For now, use 'series.values.argmax' or\n",
      "'np.argmax(np.array(values))' to get the position of the maximum\n",
      "row.\n",
      "/usr/lib/python3/dist-packages/ipykernel_launcher.py:8: FutureWarning: \n",
      "The current behaviour of 'Series.argmax' is deprecated, use 'idxmax'\n",
      "instead.\n",
      "The behavior of 'argmax' will be corrected to return the positional\n",
      "maximum in the future. For now, use 'series.values.argmax' or\n",
      "'np.argmax(np.array(values))' to get the position of the maximum\n",
      "row.\n",
      "  \n"
     ]
    },
    {
     "name": "stdout",
     "output_type": "stream",
     "text": [
      "Plot un-pruned tree. Plot (Y/N)?Y\n"
     ]
    },
    {
     "data": {
      "text/plain": [
       "['CRED_HIS',\n",
       " {'1': ['AGE',\n",
       "   {'1': ['INCOME',\n",
       "     {'1': ['HEALTH',\n",
       "       {'1': ['RACE', {'1': ['2', {}], '2': ['2', {}], '3': ['2', {}]}],\n",
       "        '2': ['RACE', {'1': ['2', {}], '2': ['2', {}], '3': ['2', {}]}]}],\n",
       "      '2': ['2', {}]}],\n",
       "    '2': ['HEALTH',\n",
       "     {'1': ['RACE',\n",
       "       {'1': ['2', {}],\n",
       "        '2': ['INCOME', {'1': ['2', {}], '2': ['2', {}]}],\n",
       "        '3': ['2', {}]}],\n",
       "      '2': ['RACE',\n",
       "       {'1': ['INCOME', {'1': ['2', {}], '2': ['2', {}]}],\n",
       "        '2': ['2', {}],\n",
       "        '3': ['INCOME', {'1': ['2', {}], '2': ['2', {}]}]}]}],\n",
       "    '3': ['RACE',\n",
       "     {'1': ['HEALTH',\n",
       "       {'1': ['INCOME', {'1': ['2', {}], '2': ['2', {}]}], '2': ['2', {}]}],\n",
       "      '2': ['HEALTH',\n",
       "       {'1': ['INCOME', {'1': ['1', {}], '2': ['1', {}]}], '2': ['1', {}]}],\n",
       "      '3': ['HEALTH', {'1': ['2', {}], '2': ['1', {}]}]}]}],\n",
       "  '2': ['INCOME',\n",
       "   {'1': ['1', {}],\n",
       "    '2': ['RACE',\n",
       "     {'1': ['AGE',\n",
       "       {'1': ['HEALTH', {'1': ['1', {}], '2': ['1', {}]}],\n",
       "        '2': ['HEALTH', {'1': ['2', {}], '2': ['1', {}]}],\n",
       "        '3': ['1', {}]}],\n",
       "      '2': ['1', {}],\n",
       "      '3': ['AGE',\n",
       "       {'1': ['1', {}],\n",
       "        '2': ['1', {}],\n",
       "        '3': ['HEALTH', {'1': ['1', {}], '2': ['1', {}]}]}]}]}]}]"
      ]
     },
     "execution_count": 154,
     "metadata": {},
     "output_type": "execute_result"
    }
   ],
   "source": [
    "import numpy as np\n",
    "import pandas as pd\n",
    "import json\n",
    "def id3(data, target, columns, tree,dataDomain,parent):\n",
    "    unique_targets = np.unique(data[target])\n",
    "\n",
    "    if len(data)==0:\n",
    "        tree[0]=str(parent[target].value_counts().argmax())[:-2]\n",
    "        return \n",
    "    elif len(unique_targets) == 1:\n",
    "        # Insert code here that assigns the \"label\" field to the node dictionary\n",
    "        if 1 in unique_targets:\n",
    "            tree[0]=str(1)\n",
    "        else:\n",
    "            tree[0]=str(2)\n",
    "        return\n",
    "    elif len(columns)==0:\n",
    "        tree[0]=str(data[target].value_counts().argmax())[:-2]\n",
    "        return\n",
    "    else:\n",
    "        parent=data\n",
    "        best_column = find_best_column(data, target, columns)\n",
    "        # Insert code here that assigns the \"column\" and \"median\" fields to the node dictionary\n",
    "        split_dict = []\n",
    "        for i in dataDomain[best_column].keys():\n",
    "            split_dict.append([i,data[data[best_column] == float(i)]])\n",
    "        tree[0]=best_column\n",
    "\n",
    "        for name, split in split_dict:\n",
    "            tree[1][name] = [None,{}]\n",
    "            id3(split, target, columns[columns!=best_column], tree[1][name],dataDomain,parent)\n",
    "\n",
    "def find_best_column(data,target,columns):\n",
    "    best_columns=np.array([])\n",
    "    for i in columns:\n",
    "        gain = entropy(data[target])-mutualInfo(data[target],data[i])\n",
    "        best_columns=np.append(best_columns, gain)\n",
    "    maxIndex=np.argmax(best_columns)\n",
    "    bestColumn=columns[maxIndex]\n",
    "    return bestColumn\n",
    "\n",
    "\n",
    "\n",
    "def mutualInfo(r1, r2):\n",
    "    mutualDep=0\n",
    "    S=len(r1)\n",
    "    entropyR1=entropy(r1)\n",
    "    for i in np.unique(r1):\n",
    "        for j in np.unique(r2):\n",
    "            Sab=len(r1[r2==j][r1[r2==j]==i])\n",
    "            Sb=len(r2[r2==j])\n",
    "            mutualDep+=(-(Sab)/S)*np.log2((Sab)/(Sb))\n",
    "    return mutualDep\n",
    "\n",
    "\n",
    "#Calculate the entropy for a, which is a set of values for a single feature.\n",
    "def entropy(a):\n",
    "    lenOfUnqElem=[]\n",
    "    unique_elem=np.unique(a)\n",
    "    for i in unique_elem:\n",
    "        lenUniq=len(a[a==i])\n",
    "        lenOfUnqElem.append(lenUniq)\n",
    "    entropyS=0\n",
    "    len_a=len(a)\n",
    "    for j in lenOfUnqElem:\n",
    "        entropyS+=((-j/len_a)*np.log2(j/len_a))\n",
    "    return entropyS\n",
    "\n",
    "    #Fill in the missing part here\n",
    "# Create a dictionary to hold the tree  \n",
    "# It has to be outside of the function so we can access it later\n",
    "\n",
    "tree = [None,{}]\n",
    "data=np.loadtxt(\"train.txt\")\n",
    "data=data.T\n",
    "data=pd.DataFrame(data,columns=[\"RISK\",\"AGE\", \"CRED_HIS\",\"INCOME\",\"RACE\",\"HEALTH\"])\n",
    "with open(\"deDomain.txt\",\"r\") as g:\n",
    "    dataDomain=json.load(g)\n",
    "id3(data, \"RISK\", np.array([\"AGE\", \"CRED_HIS\",\"INCOME\",\"RACE\",\"HEALTH\"]),tree,dataDomain,parent=None)\n",
    "with open(\"treeFileFull.txt\",\"w\") as f:\n",
    "    json.dump(tree,f)\n",
    "\n",
    "#names for the values in each domain, pre gives the number of blank\n",
    "#spaces preceding each level, and f is the file where the drawing\n",
    "#will be stored\n",
    "def dispTree(tr,ls,sp,sb,f):\n",
    "    if type(tr) != list:\n",
    "        f.write(ls['RISK'][str(tr)])\n",
    "        return\n",
    "    f.write(tr[0]+'\\n') #attribute selected in current node\n",
    "    j = 0\n",
    "    for v in tr[1]:#values in the domain of this attribute\n",
    "        sp1 = sp.copy()\n",
    "        sb1 = sb.copy()\n",
    "        j += 1\n",
    "        for k in range(len(sp1)):\n",
    "            f.write(' '+sb1[k])\n",
    "            for p in range(sp1[k]):\n",
    "                f.write(' ')\n",
    "        f.write(' !--'+ls[tr[0]][v]+'--')\n",
    "        if list == type(tr[1][v]):\n",
    "            sk = len(ls[tr[0]][v]) + 5\n",
    "            sp1.append(sk)\n",
    "            if j < len(tr[1]):\n",
    "                sb1.append('!')\n",
    "            else:\n",
    "                sb1.append(' ')\n",
    "            dispTree(tr[1][v],ls,sp1,sb1,f)\n",
    "        else:\n",
    "            f.write(ls['RISK'][str(tr[1][v])]+'\\n')\n",
    "\n",
    "def showIt(fname):\n",
    "    msg = input('Plot un-pruned tree. Plot (Y/N)?')\n",
    "    if msg == 'Y':\n",
    "        with open('deDomain.txt') as f:\n",
    "            m = json.load(f)\n",
    "        with open(fname) as f:\n",
    "            tr = json.load(f)\n",
    "        with open('treePicFull.txt', 'w') as f:\n",
    "            f.write('')\n",
    "        with open('treePicFull.txt','a+') as f:\n",
    "            dispTree(tr,m,[],[],f)\n",
    "showIt(\"treeFileFull.txt\")\n",
    "tree"
   ]
  },
  {
   "cell_type": "code",
   "execution_count": null,
   "metadata": {},
   "outputs": [],
   "source": []
  }
 ],
 "metadata": {
  "kernelspec": {
   "display_name": "Python 3",
   "language": "python",
   "name": "python3"
  },
  "language_info": {
   "codemirror_mode": {
    "name": "ipython",
    "version": 3
   },
   "file_extension": ".py",
   "mimetype": "text/x-python",
   "name": "python",
   "nbconvert_exporter": "python",
   "pygments_lexer": "ipython3",
   "version": "3.6.8"
  }
 },
 "nbformat": 4,
 "nbformat_minor": 2
}
