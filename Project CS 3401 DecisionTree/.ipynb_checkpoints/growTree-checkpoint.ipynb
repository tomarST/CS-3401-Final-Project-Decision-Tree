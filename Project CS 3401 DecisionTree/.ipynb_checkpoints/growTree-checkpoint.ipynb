{
 "cells": [
  {
   "cell_type": "code",
   "execution_count": 22,
   "metadata": {},
   "outputs": [],
   "source": [
    "import numpy as np\n",
    "import pandas as pd\n",
    "import json\n",
    "def id3(data, target, columns, tree,dataDomain):\n",
    "    unique_targets = np.unique(data[target])\n",
    "\n",
    "    if len(data)==0:\n",
    "        tree[0]=str(data[target].value)\n",
    "        return \n",
    "    elif len(unique_targets) == 1:\n",
    "        # Insert code here that assigns the \"label\" field to the node dictionary\n",
    "        if 1 in unique_targets:\n",
    "            tree[0]=str(1)\n",
    "        else:\n",
    "            tree[0]=str(2)\n",
    "        return\n",
    "    elif len(columns)==0:\n",
    "        tree[0]=str(data[target].value_counts().argmax())[:-2]\n",
    "        return\n",
    "    else:\n",
    "        parent=data\n",
    "        best_column = find_best_column(data, target, columns)\n",
    "        # Insert code here that assigns the \"column\" and \"median\" fields to the node dictionary\n",
    "        split_dict = []\n",
    "        for i in dataDomain[best_column].keys():\n",
    "            split_dict.append([i,data[data[best_column] == float(i)]])\n",
    "        tree[0]=best_column\n",
    "\n",
    "        for name, split in split_dict:\n",
    "            tree[1][name] = [None,{}]\n",
    "            id3(split, target, columns[columns!=best_column], tree[1][name],dataDomain)\n",
    "\n",
    "def find_best_column(data,target,columns):\n",
    "    best_columns=np.array([])\n",
    "    for i in columns:\n",
    "        gain = entropy(data[target])-mutualInfo(data[target],data[i])\n",
    "        best_columns=np.append(best_columns, gain)\n",
    "    maxIndex=np.argmax(best_columns)\n",
    "    bestColumn=columns[maxIndex]\n",
    "    return bestColumn\n",
    "\n",
    "\n",
    "\n",
    "def mutualInfo(r1, r2):\n",
    "    mutualDep=0\n",
    "    S=len(r1)\n",
    "    entropyR1=entropy(r1)\n",
    "    for i in np.unique(r1):\n",
    "        for j in np.unique(r2):\n",
    "            Sab=len(r1[r2==j][r1[r2==j]==i])\n",
    "            Sb=len(r2[r2==j])\n",
    "            mutualDep+=(-(Sab)/S)*np.log2((Sab)/(Sb))\n",
    "    return mutualDep\n",
    "\n",
    "\n",
    "#Calculate the entropy for a, which is a set of values for a single feature.\n",
    "def entropy(a):\n",
    "    lenOfUnqElem=[]\n",
    "    unique_elem=np.unique(a)\n",
    "    for i in unique_elem:\n",
    "        lenUniq=len(a[a==i])\n",
    "        lenOfUnqElem.append(lenUniq)\n",
    "    entropyS=0\n",
    "    len_a=len(a)\n",
    "    for j in lenOfUnqElem:\n",
    "        entropyS+=((-j/len_a)*np.log2(j/len_a))\n",
    "    return entropyS\n",
    "\n",
    "    #Fill in the missing part here\n"
   ]
  },
  {
   "cell_type": "code",
   "execution_count": 23,
   "metadata": {},
   "outputs": [],
   "source": [
    "# Create a dictionary to hold the tree  \n",
    "# It has to be outside of the function so we can access it later\n",
    "tree = [None,{}]\n",
    "data=np.loadtxt(\"train.txt\")\n",
    "data=data.T\n",
    "data=pd.DataFrame(data,columns=[\"RISK\",\"AGE\", \"CRED_HIS\",\"INCOME\",\"RACE\",\"HEALTH\"])\n",
    "with open(\"deDomain.txt\",\"r\") as g:\n",
    "    dataDomain=json.load(g)\n",
    "# for i in data.columns:\n",
    "#     data[i]=data[i].astype(str).str[:-2]\n",
    "#     data[i]=data[i].map(dataDesc[i])\n",
    "    \n",
    "# This list will let us number the nodes  \n",
    "# It has to be a list so we can access it inside the functio"
   ]
  },
  {
   "cell_type": "code",
   "execution_count": 24,
   "metadata": {},
   "outputs": [
    {
     "name": "stderr",
     "output_type": "stream",
     "text": [
      "/usr/lib/python3/dist-packages/ipykernel_launcher.py:51: RuntimeWarning: divide by zero encountered in log2\n",
      "/usr/lib/python3/dist-packages/ipykernel_launcher.py:51: RuntimeWarning: invalid value encountered in double_scalars\n",
      "/usr/lib/python3/dist-packages/ipykernel_launcher.py:18: FutureWarning: \n",
      "The current behaviour of 'Series.argmax' is deprecated, use 'idxmax'\n",
      "instead.\n",
      "The behavior of 'argmax' will be corrected to return the positional\n",
      "maximum in the future. For now, use 'series.values.argmax' or\n",
      "'np.argmax(np.array(values))' to get the position of the maximum\n",
      "row.\n"
     ]
    }
   ],
   "source": [
    "id3(data, \"RISK\", np.array([\"AGE\", \"CRED_HIS\",\"INCOME\",\"RACE\",\"HEALTH\"]),tree,dataDomain,parent=None)"
   ]
  },
  {
   "cell_type": "code",
   "execution_count": 25,
   "metadata": {},
   "outputs": [
    {
     "data": {
      "text/plain": [
       "['CRED_HIS',\n",
       " {'1': ['AGE',\n",
       "   {'1': ['INCOME',\n",
       "     {'1': ['HEALTH',\n",
       "       {'1': ['RACE', {'1': ['2', {}], '2': ['2', {}], '3': ['2', {}]}],\n",
       "        '2': ['RACE', {'1': ['2', {}], '2': ['2', {}], '3': ['2', {}]}]}],\n",
       "      '2': ['2', {}]}],\n",
       "    '2': ['HEALTH',\n",
       "     {'1': ['RACE',\n",
       "       {'1': ['2', {}],\n",
       "        '2': ['INCOME', {'1': ['2', {}], '2': ['2', {}]}],\n",
       "        '3': ['2', {}]}],\n",
       "      '2': ['RACE',\n",
       "       {'1': ['INCOME', {'1': ['2', {}], '2': ['2', {}]}],\n",
       "        '2': ['2', {}],\n",
       "        '3': ['INCOME', {'1': ['2', {}], '2': ['2', {}]}]}]}],\n",
       "    '3': ['RACE',\n",
       "     {'1': ['HEALTH',\n",
       "       {'1': ['INCOME', {'1': ['2', {}], '2': ['2', {}]}], '2': ['2', {}]}],\n",
       "      '2': ['HEALTH',\n",
       "       {'1': ['INCOME', {'1': ['1', {}], '2': ['1', {}]}], '2': ['1', {}]}],\n",
       "      '3': ['HEALTH', {'1': ['2', {}], '2': ['1', {}]}]}]}],\n",
       "  '2': ['INCOME',\n",
       "   {'1': ['1', {}],\n",
       "    '2': ['RACE',\n",
       "     {'1': ['AGE',\n",
       "       {'1': ['HEALTH', {'1': ['1', {}], '2': ['1', {}]}],\n",
       "        '2': ['HEALTH', {'1': ['2', {}], '2': ['1', {}]}],\n",
       "        '3': ['1', {}]}],\n",
       "      '2': ['1', {}],\n",
       "      '3': ['AGE',\n",
       "       {'1': ['1', {}],\n",
       "        '2': ['1', {}],\n",
       "        '3': ['HEALTH', {'1': ['1', {}], '2': ['1', {}]}]}]}]}]}]"
      ]
     },
     "execution_count": 25,
     "metadata": {},
     "output_type": "execute_result"
    }
   ],
   "source": [
    "tree"
   ]
  },
  {
   "cell_type": "code",
   "execution_count": 26,
   "metadata": {},
   "outputs": [],
   "source": [
    "with open(\"DecisionTree.txt\",\"w\") as f:\n",
    "    json.dump(tree,f)"
   ]
  },
  {
   "cell_type": "code",
   "execution_count": 27,
   "metadata": {},
   "outputs": [
    {
     "name": "stdout",
     "output_type": "stream",
     "text": [
      "Plot un-pruned tree. Plot (Y/N)?Y\n"
     ]
    }
   ],
   "source": [
    "import numpy as np\n",
    "import json\n",
    "\n",
    "\n",
    "#Draw the (sub)decision tree rooted at tr. ls recovers the english\n",
    "#names for the values in each domain, pre gives the number of blank\n",
    "#spaces preceding each level, and f is the file where the drawing\n",
    "#will be stored\n",
    "def dispTree(tr,ls,sp,sb,f):\n",
    "    if type(tr) != list:\n",
    "        f.write(ls['RISK'][str(tr)])\n",
    "        return\n",
    "    f.write(tr[0]+'\\n') #attribute selected in current node\n",
    "    j = 0\n",
    "    for v in tr[1]:#values in the domain of this attribute\n",
    "        sp1 = sp.copy()\n",
    "        sb1 = sb.copy()\n",
    "        j += 1\n",
    "        for k in range(len(sp1)):\n",
    "            f.write(' '+sb1[k])\n",
    "            for p in range(sp1[k]):\n",
    "                f.write(' ')\n",
    "        f.write(' !--'+ls[tr[0]][v]+'--')\n",
    "        if list == type(tr[1][v]):\n",
    "            sk = len(ls[tr[0]][v]) + 5\n",
    "            sp1.append(sk)\n",
    "            if j < len(tr[1]):\n",
    "                sb1.append('!')\n",
    "            else:\n",
    "                sb1.append(' ')\n",
    "            dispTree(tr[1][v],ls,sp1,sb1,f)\n",
    "        else:\n",
    "            f.write(ls['RISK'][str(tr[1][v])]+'\\n')\n",
    "\n",
    "def showIt(fname):\n",
    "    msg = input('Plot un-pruned tree. Plot (Y/N)?')\n",
    "    if msg == 'Y':\n",
    "        with open('deDomain.txt') as f:\n",
    "            m = json.load(f)\n",
    "        with open(fname) as f:\n",
    "            tr = json.load(f)\n",
    "        with open('treePicFull.txt', 'w') as f:\n",
    "            f.write('')\n",
    "        with open('treePicFull.txt','a+') as f:\n",
    "            dispTree(tr,m,[],[],f)\n",
    "showIt(\"DecisionTree.txt\")"
   ]
  },
  {
   "cell_type": "code",
   "execution_count": 7,
   "metadata": {},
   "outputs": [
    {
     "ename": "JSONDecodeError",
     "evalue": "Expecting value: line 1 column 1 (char 0)",
     "output_type": "error",
     "traceback": [
      "\u001b[0;31m---------------------------------------------------------------------------\u001b[0m",
      "\u001b[0;31mJSONDecodeError\u001b[0m                           Traceback (most recent call last)",
      "\u001b[0;32m<ipython-input-7-e4edfd70a11a>\u001b[0m in \u001b[0;36m<module>\u001b[0;34m()\u001b[0m\n\u001b[1;32m      1\u001b[0m \u001b[0;32mwith\u001b[0m \u001b[0mopen\u001b[0m\u001b[0;34m(\u001b[0m\u001b[0;34m\"treePicFull.txt\"\u001b[0m\u001b[0;34m,\u001b[0m\u001b[0;34m\"r\"\u001b[0m\u001b[0;34m)\u001b[0m \u001b[0;32mas\u001b[0m \u001b[0mg\u001b[0m\u001b[0;34m:\u001b[0m\u001b[0;34m\u001b[0m\u001b[0;34m\u001b[0m\u001b[0m\n\u001b[0;32m----> 2\u001b[0;31m     \u001b[0mdataDesc\u001b[0m\u001b[0;34m=\u001b[0m\u001b[0mjson\u001b[0m\u001b[0;34m.\u001b[0m\u001b[0mload\u001b[0m\u001b[0;34m(\u001b[0m\u001b[0mg\u001b[0m\u001b[0;34m)\u001b[0m\u001b[0;34m\u001b[0m\u001b[0;34m\u001b[0m\u001b[0m\n\u001b[0m",
      "\u001b[0;32m/usr/lib/python3.6/json/__init__.py\u001b[0m in \u001b[0;36mload\u001b[0;34m(fp, cls, object_hook, parse_float, parse_int, parse_constant, object_pairs_hook, **kw)\u001b[0m\n\u001b[1;32m    297\u001b[0m         \u001b[0mcls\u001b[0m\u001b[0;34m=\u001b[0m\u001b[0mcls\u001b[0m\u001b[0;34m,\u001b[0m \u001b[0mobject_hook\u001b[0m\u001b[0;34m=\u001b[0m\u001b[0mobject_hook\u001b[0m\u001b[0;34m,\u001b[0m\u001b[0;34m\u001b[0m\u001b[0;34m\u001b[0m\u001b[0m\n\u001b[1;32m    298\u001b[0m         \u001b[0mparse_float\u001b[0m\u001b[0;34m=\u001b[0m\u001b[0mparse_float\u001b[0m\u001b[0;34m,\u001b[0m \u001b[0mparse_int\u001b[0m\u001b[0;34m=\u001b[0m\u001b[0mparse_int\u001b[0m\u001b[0;34m,\u001b[0m\u001b[0;34m\u001b[0m\u001b[0;34m\u001b[0m\u001b[0m\n\u001b[0;32m--> 299\u001b[0;31m         parse_constant=parse_constant, object_pairs_hook=object_pairs_hook, **kw)\n\u001b[0m\u001b[1;32m    300\u001b[0m \u001b[0;34m\u001b[0m\u001b[0m\n\u001b[1;32m    301\u001b[0m \u001b[0;34m\u001b[0m\u001b[0m\n",
      "\u001b[0;32m/usr/lib/python3.6/json/__init__.py\u001b[0m in \u001b[0;36mloads\u001b[0;34m(s, encoding, cls, object_hook, parse_float, parse_int, parse_constant, object_pairs_hook, **kw)\u001b[0m\n\u001b[1;32m    352\u001b[0m             \u001b[0mparse_int\u001b[0m \u001b[0;32mis\u001b[0m \u001b[0;32mNone\u001b[0m \u001b[0;32mand\u001b[0m \u001b[0mparse_float\u001b[0m \u001b[0;32mis\u001b[0m \u001b[0;32mNone\u001b[0m \u001b[0;32mand\u001b[0m\u001b[0;34m\u001b[0m\u001b[0;34m\u001b[0m\u001b[0m\n\u001b[1;32m    353\u001b[0m             parse_constant is None and object_pairs_hook is None and not kw):\n\u001b[0;32m--> 354\u001b[0;31m         \u001b[0;32mreturn\u001b[0m \u001b[0m_default_decoder\u001b[0m\u001b[0;34m.\u001b[0m\u001b[0mdecode\u001b[0m\u001b[0;34m(\u001b[0m\u001b[0ms\u001b[0m\u001b[0;34m)\u001b[0m\u001b[0;34m\u001b[0m\u001b[0;34m\u001b[0m\u001b[0m\n\u001b[0m\u001b[1;32m    355\u001b[0m     \u001b[0;32mif\u001b[0m \u001b[0mcls\u001b[0m \u001b[0;32mis\u001b[0m \u001b[0;32mNone\u001b[0m\u001b[0;34m:\u001b[0m\u001b[0;34m\u001b[0m\u001b[0;34m\u001b[0m\u001b[0m\n\u001b[1;32m    356\u001b[0m         \u001b[0mcls\u001b[0m \u001b[0;34m=\u001b[0m \u001b[0mJSONDecoder\u001b[0m\u001b[0;34m\u001b[0m\u001b[0;34m\u001b[0m\u001b[0m\n",
      "\u001b[0;32m/usr/lib/python3.6/json/decoder.py\u001b[0m in \u001b[0;36mdecode\u001b[0;34m(self, s, _w)\u001b[0m\n\u001b[1;32m    337\u001b[0m \u001b[0;34m\u001b[0m\u001b[0m\n\u001b[1;32m    338\u001b[0m         \"\"\"\n\u001b[0;32m--> 339\u001b[0;31m         \u001b[0mobj\u001b[0m\u001b[0;34m,\u001b[0m \u001b[0mend\u001b[0m \u001b[0;34m=\u001b[0m \u001b[0mself\u001b[0m\u001b[0;34m.\u001b[0m\u001b[0mraw_decode\u001b[0m\u001b[0;34m(\u001b[0m\u001b[0ms\u001b[0m\u001b[0;34m,\u001b[0m \u001b[0midx\u001b[0m\u001b[0;34m=\u001b[0m\u001b[0m_w\u001b[0m\u001b[0;34m(\u001b[0m\u001b[0ms\u001b[0m\u001b[0;34m,\u001b[0m \u001b[0;36m0\u001b[0m\u001b[0;34m)\u001b[0m\u001b[0;34m.\u001b[0m\u001b[0mend\u001b[0m\u001b[0;34m(\u001b[0m\u001b[0;34m)\u001b[0m\u001b[0;34m)\u001b[0m\u001b[0;34m\u001b[0m\u001b[0;34m\u001b[0m\u001b[0m\n\u001b[0m\u001b[1;32m    340\u001b[0m         \u001b[0mend\u001b[0m \u001b[0;34m=\u001b[0m \u001b[0m_w\u001b[0m\u001b[0;34m(\u001b[0m\u001b[0ms\u001b[0m\u001b[0;34m,\u001b[0m \u001b[0mend\u001b[0m\u001b[0;34m)\u001b[0m\u001b[0;34m.\u001b[0m\u001b[0mend\u001b[0m\u001b[0;34m(\u001b[0m\u001b[0;34m)\u001b[0m\u001b[0;34m\u001b[0m\u001b[0;34m\u001b[0m\u001b[0m\n\u001b[1;32m    341\u001b[0m         \u001b[0;32mif\u001b[0m \u001b[0mend\u001b[0m \u001b[0;34m!=\u001b[0m \u001b[0mlen\u001b[0m\u001b[0;34m(\u001b[0m\u001b[0ms\u001b[0m\u001b[0;34m)\u001b[0m\u001b[0;34m:\u001b[0m\u001b[0;34m\u001b[0m\u001b[0;34m\u001b[0m\u001b[0m\n",
      "\u001b[0;32m/usr/lib/python3.6/json/decoder.py\u001b[0m in \u001b[0;36mraw_decode\u001b[0;34m(self, s, idx)\u001b[0m\n\u001b[1;32m    355\u001b[0m             \u001b[0mobj\u001b[0m\u001b[0;34m,\u001b[0m \u001b[0mend\u001b[0m \u001b[0;34m=\u001b[0m \u001b[0mself\u001b[0m\u001b[0;34m.\u001b[0m\u001b[0mscan_once\u001b[0m\u001b[0;34m(\u001b[0m\u001b[0ms\u001b[0m\u001b[0;34m,\u001b[0m \u001b[0midx\u001b[0m\u001b[0;34m)\u001b[0m\u001b[0;34m\u001b[0m\u001b[0;34m\u001b[0m\u001b[0m\n\u001b[1;32m    356\u001b[0m         \u001b[0;32mexcept\u001b[0m \u001b[0mStopIteration\u001b[0m \u001b[0;32mas\u001b[0m \u001b[0merr\u001b[0m\u001b[0;34m:\u001b[0m\u001b[0;34m\u001b[0m\u001b[0;34m\u001b[0m\u001b[0m\n\u001b[0;32m--> 357\u001b[0;31m             \u001b[0;32mraise\u001b[0m \u001b[0mJSONDecodeError\u001b[0m\u001b[0;34m(\u001b[0m\u001b[0;34m\"Expecting value\"\u001b[0m\u001b[0;34m,\u001b[0m \u001b[0ms\u001b[0m\u001b[0;34m,\u001b[0m \u001b[0merr\u001b[0m\u001b[0;34m.\u001b[0m\u001b[0mvalue\u001b[0m\u001b[0;34m)\u001b[0m \u001b[0;32mfrom\u001b[0m \u001b[0;32mNone\u001b[0m\u001b[0;34m\u001b[0m\u001b[0;34m\u001b[0m\u001b[0m\n\u001b[0m\u001b[1;32m    358\u001b[0m         \u001b[0;32mreturn\u001b[0m \u001b[0mobj\u001b[0m\u001b[0;34m,\u001b[0m \u001b[0mend\u001b[0m\u001b[0;34m\u001b[0m\u001b[0;34m\u001b[0m\u001b[0m\n",
      "\u001b[0;31mJSONDecodeError\u001b[0m: Expecting value: line 1 column 1 (char 0)"
     ]
    }
   ],
   "source": [
    "with open(\"treePicFull.txt\",\"r\") as g:\n",
    "    dataDesc=json.load(g)"
   ]
  },
  {
   "cell_type": "code",
   "execution_count": 8,
   "metadata": {},
   "outputs": [
    {
     "data": {
      "text/html": [
       "<div>\n",
       "<style scoped>\n",
       "    .dataframe tbody tr th:only-of-type {\n",
       "        vertical-align: middle;\n",
       "    }\n",
       "\n",
       "    .dataframe tbody tr th {\n",
       "        vertical-align: top;\n",
       "    }\n",
       "\n",
       "    .dataframe thead th {\n",
       "        text-align: right;\n",
       "    }\n",
       "</style>\n",
       "<table border=\"1\" class=\"dataframe\">\n",
       "  <thead>\n",
       "    <tr style=\"text-align: right;\">\n",
       "      <th></th>\n",
       "      <th>RISK</th>\n",
       "      <th>AGE</th>\n",
       "      <th>CRED_HIS</th>\n",
       "      <th>INCOME</th>\n",
       "      <th>RACE</th>\n",
       "      <th>HEALTH</th>\n",
       "    </tr>\n",
       "  </thead>\n",
       "  <tbody>\n",
       "    <tr>\n",
       "      <th>115</th>\n",
       "      <td>2.0</td>\n",
       "      <td>1.0</td>\n",
       "      <td>1.0</td>\n",
       "      <td>2.0</td>\n",
       "      <td>1.0</td>\n",
       "      <td>1.0</td>\n",
       "    </tr>\n",
       "    <tr>\n",
       "      <th>130</th>\n",
       "      <td>2.0</td>\n",
       "      <td>1.0</td>\n",
       "      <td>1.0</td>\n",
       "      <td>2.0</td>\n",
       "      <td>3.0</td>\n",
       "      <td>1.0</td>\n",
       "    </tr>\n",
       "  </tbody>\n",
       "</table>\n",
       "</div>"
      ],
      "text/plain": [
       "     RISK  AGE  CRED_HIS  INCOME  RACE  HEALTH\n",
       "115   2.0  1.0       1.0     2.0   1.0     1.0\n",
       "130   2.0  1.0       1.0     2.0   3.0     1.0"
      ]
     },
     "execution_count": 8,
     "metadata": {},
     "output_type": "execute_result"
    }
   ],
   "source": [
    "data[(data[\"CRED_HIS\"]==1)&(data[\"AGE\"]==1)&(data[\"INCOME\"]==2)]"
   ]
  },
  {
   "cell_type": "code",
   "execution_count": null,
   "metadata": {},
   "outputs": [],
   "source": []
  },
  {
   "cell_type": "code",
   "execution_count": null,
   "metadata": {},
   "outputs": [],
   "source": []
  },
  {
   "cell_type": "code",
   "execution_count": null,
   "metadata": {},
   "outputs": [],
   "source": []
  },
  {
   "cell_type": "code",
   "execution_count": null,
   "metadata": {},
   "outputs": [],
   "source": []
  },
  {
   "cell_type": "code",
   "execution_count": 9,
   "metadata": {},
   "outputs": [
    {
     "name": "stdout",
     "output_type": "stream",
     "text": [
      "     RISK  AGE  CRED_HIS  INCOME  RACE  HEALTH\n",
      "47    1.0  2.0       1.0     1.0   2.0     1.0\n",
      "100   2.0  2.0       1.0     1.0   2.0     1.0\n",
      "104   2.0  2.0       1.0     1.0   2.0     1.0\n"
     ]
    }
   ],
   "source": [
    "print(data[(data[\"CRED_HIS\"]==1)&(data[\"AGE\"]==2)&(data[\"HEALTH\"]==1)&(data[\"RACE\"]==2)&(data[\"INCOME\"]==1)])"
   ]
  },
  {
   "cell_type": "code",
   "execution_count": 10,
   "metadata": {},
   "outputs": [
    {
     "data": {
      "text/plain": [
       "1.0    100\n",
       "2.0     40\n",
       "Name: RISK, dtype: int64"
      ]
     },
     "execution_count": 10,
     "metadata": {},
     "output_type": "execute_result"
    }
   ],
   "source": [
    "data[\"RISK\"].value_counts()"
   ]
  },
  {
   "cell_type": "code",
   "execution_count": 19,
   "metadata": {},
   "outputs": [
    {
     "data": {
      "text/plain": [
       "2"
      ]
     },
     "execution_count": 19,
     "metadata": {},
     "output_type": "execute_result"
    }
   ],
   "source": [
    "np.random.randint(1,3)"
   ]
  },
  {
   "cell_type": "code",
   "execution_count": null,
   "metadata": {},
   "outputs": [],
   "source": []
  },
  {
   "cell_type": "code",
   "execution_count": null,
   "metadata": {},
   "outputs": [],
   "source": []
  }
 ],
 "metadata": {
  "kernelspec": {
   "display_name": "Python 3",
   "language": "python",
   "name": "python3"
  },
  "language_info": {
   "codemirror_mode": {
    "name": "ipython",
    "version": 3
   },
   "file_extension": ".py",
   "mimetype": "text/x-python",
   "name": "python",
   "nbconvert_exporter": "python",
   "pygments_lexer": "ipython3",
   "version": "3.6.8"
  }
 },
 "nbformat": 4,
 "nbformat_minor": 2
}
